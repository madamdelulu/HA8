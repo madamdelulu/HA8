{
 "cells": [
  {
   "cell_type": "markdown",
   "id": "01f5cfbc-770a-46b8-8355-dd83310b11ce",
   "metadata": {},
   "source": [
    "# Good Day Generator\n",
    "This notebook shows a simple Python program that uses input, lists, and random choice.\n"
   ]
  },
  {
   "cell_type": "code",
   "execution_count": 1,
   "id": "965c0e7c-0a60-4c0c-ae6e-8231c88b80a6",
   "metadata": {},
   "outputs": [
    {
     "name": "stdout",
     "output_type": "stream",
     "text": [
      "=== GOOD DAY GENERATOR ===\n"
     ]
    },
    {
     "name": "stdin",
     "output_type": "stream",
     "text": [
      "Enter your name:  Anita\n"
     ]
    },
    {
     "name": "stdout",
     "output_type": "stream",
     "text": [
      "Hi Anita, Something good is coming your way!\n"
     ]
    }
   ],
   "source": [
    "# Good Day Generator\n",
    "# Author: Anita\n",
    "\n",
    "import random\n",
    "\n",
    "print(\"=== GOOD DAY GENERATOR ===\")\n",
    "\n",
    "name = input(\"Enter your name: \")\n",
    "\n",
    "messages = [\n",
    "    \"Remember to smile today!\",\n",
    "    \"You can do amazing things!\",\n",
    "    \"Take a deep breath and keep going!\",\n",
    "    \"Something good is coming your way!\",\n",
    "    \"Don’t forget to drink water!\"\n",
    "]\n",
    "\n",
    "message = random.choice(messages)\n",
    "print(f\"Hi {name}, {message}\")"
   ]
  },
  {
   "cell_type": "markdown",
   "id": "e5e16072-f357-418b-a716-98149d6fdb6d",
   "metadata": {},
   "source": [
    "### Summary\n",
    "I learned how to use random choice with a list of messages.\n",
    "This was a fun way to combine input and print functions.\n"
   ]
  },
  {
   "cell_type": "code",
   "execution_count": null,
   "id": "2aaab8d7-fef4-411c-814f-6d11d03d511d",
   "metadata": {},
   "outputs": [],
   "source": []
  },
  {
   "cell_type": "code",
   "execution_count": null,
   "id": "e6b068d6-2281-44c0-8ddd-58cfc807a6d2",
   "metadata": {},
   "outputs": [],
   "source": []
  },
  {
   "cell_type": "code",
   "execution_count": null,
   "id": "1c82c2c4-38b0-40bc-8af6-938ed2712fdb",
   "metadata": {},
   "outputs": [],
   "source": []
  }
 ],
 "metadata": {
  "kernelspec": {
   "display_name": "Python 3 (ipykernel)",
   "language": "python",
   "name": "python3"
  },
  "language_info": {
   "codemirror_mode": {
    "name": "ipython",
    "version": 3
   },
   "file_extension": ".py",
   "mimetype": "text/x-python",
   "name": "python",
   "nbconvert_exporter": "python",
   "pygments_lexer": "ipython3",
   "version": "3.12.7"
  }
 },
 "nbformat": 4,
 "nbformat_minor": 5
}
